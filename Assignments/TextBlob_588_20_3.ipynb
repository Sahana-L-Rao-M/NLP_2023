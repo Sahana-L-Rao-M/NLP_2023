{
  "nbformat": 4,
  "nbformat_minor": 0,
  "metadata": {
    "colab": {
      "provenance": []
    },
    "kernelspec": {
      "name": "python3",
      "display_name": "Python 3"
    },
    "language_info": {
      "name": "python"
    },
    "accelerator": "GPU",
    "gpuClass": "standard"
  },
  "cells": [
    {
      "cell_type": "code",
      "execution_count": 1,
      "metadata": {
        "colab": {
          "base_uri": "https://localhost:8080/"
        },
        "id": "Z9PTiZ4sYQSn",
        "outputId": "88deea67-2f6f-4fd7-8c6f-2198fdaee893"
      },
      "outputs": [
        {
          "output_type": "stream",
          "name": "stdout",
          "text": [
            "Looking in indexes: https://pypi.org/simple, https://us-python.pkg.dev/colab-wheels/public/simple/\n",
            "Requirement already satisfied: textblob in /usr/local/lib/python3.9/dist-packages (0.17.1)\n",
            "Requirement already satisfied: nltk>=3.1 in /usr/local/lib/python3.9/dist-packages (from textblob) (3.8.1)\n",
            "Requirement already satisfied: click in /usr/local/lib/python3.9/dist-packages (from nltk>=3.1->textblob) (8.1.3)\n",
            "Requirement already satisfied: joblib in /usr/local/lib/python3.9/dist-packages (from nltk>=3.1->textblob) (1.2.0)\n",
            "Requirement already satisfied: regex>=2021.8.3 in /usr/local/lib/python3.9/dist-packages (from nltk>=3.1->textblob) (2022.10.31)\n",
            "Requirement already satisfied: tqdm in /usr/local/lib/python3.9/dist-packages (from nltk>=3.1->textblob) (4.65.0)\n"
          ]
        }
      ],
      "source": [
        "!pip install textblob\n",
        "from textblob import TextBlob"
      ]
    },
    {
      "cell_type": "code",
      "source": [
        "import nltk\n",
        "nltk.download('punkt')"
      ],
      "metadata": {
        "colab": {
          "base_uri": "https://localhost:8080/"
        },
        "id": "7JP4zknFbLZ-",
        "outputId": "75a439f4-6264-4ff3-9e81-3a0512decc19"
      },
      "execution_count": 2,
      "outputs": [
        {
          "output_type": "stream",
          "name": "stderr",
          "text": [
            "[nltk_data] Downloading package punkt to /root/nltk_data...\n",
            "[nltk_data]   Unzipping tokenizers/punkt.zip.\n"
          ]
        },
        {
          "output_type": "execute_result",
          "data": {
            "text/plain": [
              "True"
            ]
          },
          "metadata": {},
          "execution_count": 2
        }
      ]
    },
    {
      "cell_type": "code",
      "source": [
        "sentence1=TextBlob('Hello. This is Sahana. From mlore')"
      ],
      "metadata": {
        "id": "-7jUPAwFaVBd"
      },
      "execution_count": 3,
      "outputs": []
    },
    {
      "cell_type": "code",
      "source": [
        "print(sentence1.sentiment)#"
      ],
      "metadata": {
        "colab": {
          "base_uri": "https://localhost:8080/"
        },
        "id": "TjzqeKi_bT1u",
        "outputId": "7df5bbf4-91b8-4fdd-cc73-5b3b2db39024"
      },
      "execution_count": 4,
      "outputs": [
        {
          "output_type": "stream",
          "name": "stdout",
          "text": [
            "Sentiment(polarity=0.0, subjectivity=0.0)\n"
          ]
        }
      ]
    },
    {
      "cell_type": "code",
      "source": [
        "print(sentence1.sentences)#Tokenize to sentences"
      ],
      "metadata": {
        "colab": {
          "base_uri": "https://localhost:8080/"
        },
        "id": "4aHHasC8bh77",
        "outputId": "4b66b54f-d7fb-4ecb-ff1c-911ed63afd87"
      },
      "execution_count": 5,
      "outputs": [
        {
          "output_type": "stream",
          "name": "stdout",
          "text": [
            "[Sentence(\"Hello.\"), Sentence(\"This is Sahana.\"), Sentence(\"From mlore\")]\n"
          ]
        }
      ]
    },
    {
      "cell_type": "code",
      "source": [
        "print(sentence1.words) #tokenize to words"
      ],
      "metadata": {
        "colab": {
          "base_uri": "https://localhost:8080/"
        },
        "id": "YY_T9qmCajPg",
        "outputId": "b9a1edcd-d096-4f10-a692-2835924ceb7b"
      },
      "execution_count": 6,
      "outputs": [
        {
          "output_type": "stream",
          "name": "stdout",
          "text": [
            "['Hello', 'This', 'is', 'Sahana', 'From', 'mlore']\n"
          ]
        }
      ]
    },
    {
      "cell_type": "code",
      "source": [
        "word1=TextBlob(\"My class is goid\") #Correcting spelling errors \n",
        "print(word1.correct())"
      ],
      "metadata": {
        "colab": {
          "base_uri": "https://localhost:8080/"
        },
        "id": "Eq-WJUbBbysJ",
        "outputId": "373740d7-e45e-4237-8e87-32661e7254cd"
      },
      "execution_count": 7,
      "outputs": [
        {
          "output_type": "stream",
          "name": "stdout",
          "text": [
            "By class is good\n"
          ]
        }
      ]
    },
    {
      "cell_type": "markdown",
      "source": [
        "#Word and noun frequencies"
      ],
      "metadata": {
        "id": "kDj8OVLCdAWB"
      }
    },
    {
      "cell_type": "code",
      "source": [
        "sent=TextBlob(\"I am Sahana Rao. I study in college. I am in Bangalore. I am in PES College in bangalore. People are very energetic. Bangalore has the highest number of IT companies.\")"
      ],
      "metadata": {
        "id": "2hjnLt35dEeO"
      },
      "execution_count": 8,
      "outputs": []
    },
    {
      "cell_type": "code",
      "source": [
        "sent.word_counts['i']"
      ],
      "metadata": {
        "colab": {
          "base_uri": "https://localhost:8080/"
        },
        "id": "ejYRg_44dUYw",
        "outputId": "cc25be78-7028-47af-87c6-6d0dd5a2e91b"
      },
      "execution_count": 9,
      "outputs": [
        {
          "output_type": "execute_result",
          "data": {
            "text/plain": [
              "4"
            ]
          },
          "metadata": {},
          "execution_count": 9
        }
      ]
    },
    {
      "cell_type": "code",
      "source": [
        "sent.words.count('i', case_sensitive=True)"
      ],
      "metadata": {
        "id": "73mmdXK2dcLg",
        "colab": {
          "base_uri": "https://localhost:8080/"
        },
        "outputId": "758b4ddc-f85b-4a5c-bc9e-9a7b714d4cef"
      },
      "execution_count": 10,
      "outputs": [
        {
          "output_type": "execute_result",
          "data": {
            "text/plain": [
              "0"
            ]
          },
          "metadata": {},
          "execution_count": 10
        }
      ]
    },
    {
      "cell_type": "code",
      "source": [
        "sent.words.count('I',case_sensitive=True)"
      ],
      "metadata": {
        "colab": {
          "base_uri": "https://localhost:8080/"
        },
        "id": "l3HRwltFT-f2",
        "outputId": "5b7e1af0-68c4-4325-eacf-75fdad5bde76"
      },
      "execution_count": 11,
      "outputs": [
        {
          "output_type": "execute_result",
          "data": {
            "text/plain": [
              "4"
            ]
          },
          "metadata": {},
          "execution_count": 11
        }
      ]
    },
    {
      "cell_type": "code",
      "source": [
        "nltk.download('brown')"
      ],
      "metadata": {
        "colab": {
          "base_uri": "https://localhost:8080/"
        },
        "id": "pEqXUqjCUg-N",
        "outputId": "159cb696-22ed-40e4-970e-b109c0f16b5c"
      },
      "execution_count": 12,
      "outputs": [
        {
          "output_type": "stream",
          "name": "stderr",
          "text": [
            "[nltk_data] Downloading package brown to /root/nltk_data...\n",
            "[nltk_data]   Unzipping corpora/brown.zip.\n"
          ]
        },
        {
          "output_type": "execute_result",
          "data": {
            "text/plain": [
              "True"
            ]
          },
          "metadata": {},
          "execution_count": 12
        }
      ]
    },
    {
      "cell_type": "code",
      "source": [
        "sent.noun_phrases"
      ],
      "metadata": {
        "colab": {
          "base_uri": "https://localhost:8080/"
        },
        "id": "IfFD3g1zWoAw",
        "outputId": "3d5c2df2-97d5-403d-9251-bd7a044230fd"
      },
      "execution_count": 13,
      "outputs": [
        {
          "output_type": "execute_result",
          "data": {
            "text/plain": [
              "WordList(['sahana rao', 'bangalore', 'pes', 'bangalore', 'it'])"
            ]
          },
          "metadata": {},
          "execution_count": 13
        }
      ]
    },
    {
      "cell_type": "code",
      "source": [
        "sent.noun_phrases.count('bangalore')"
      ],
      "metadata": {
        "colab": {
          "base_uri": "https://localhost:8080/"
        },
        "id": "EhPvRep_UlEt",
        "outputId": "93ed7d46-49be-4ffb-d777-59ee63e70c48"
      },
      "execution_count": 14,
      "outputs": [
        {
          "output_type": "execute_result",
          "data": {
            "text/plain": [
              "2"
            ]
          },
          "metadata": {},
          "execution_count": 14
        }
      ]
    },
    {
      "cell_type": "markdown",
      "source": [
        "#Parts of Speech Tags"
      ],
      "metadata": {
        "id": "yr3-xu-4W1r_"
      }
    },
    {
      "cell_type": "code",
      "source": [
        "sent=TextBlob(\"I am Sahana Rao. I study in college. I am in Bangalore. I am in PES College in bangalore. People are very energetic. Bangalore has the highest number of IT companies.\")"
      ],
      "metadata": {
        "id": "oeQe8ZTEWn5P"
      },
      "execution_count": 15,
      "outputs": []
    },
    {
      "cell_type": "code",
      "source": [
        "nltk.download('averaged_perceptron_tagger')"
      ],
      "metadata": {
        "colab": {
          "base_uri": "https://localhost:8080/"
        },
        "id": "jufGpHHhVEtI",
        "outputId": "e5f20fe1-8325-4028-e380-fd90d60acc51"
      },
      "execution_count": 16,
      "outputs": [
        {
          "output_type": "stream",
          "name": "stderr",
          "text": [
            "[nltk_data] Downloading package averaged_perceptron_tagger to\n",
            "[nltk_data]     /root/nltk_data...\n",
            "[nltk_data]   Unzipping taggers/averaged_perceptron_tagger.zip.\n"
          ]
        },
        {
          "output_type": "execute_result",
          "data": {
            "text/plain": [
              "True"
            ]
          },
          "metadata": {},
          "execution_count": 16
        }
      ]
    },
    {
      "cell_type": "code",
      "source": [
        "sent.tags"
      ],
      "metadata": {
        "colab": {
          "base_uri": "https://localhost:8080/"
        },
        "id": "nBcohrbcW-24",
        "outputId": "b2edacdc-9d09-4f99-b8fe-59d51ad8ff12"
      },
      "execution_count": 17,
      "outputs": [
        {
          "output_type": "execute_result",
          "data": {
            "text/plain": [
              "[('I', 'PRP'),\n",
              " ('am', 'VBP'),\n",
              " ('Sahana', 'NNP'),\n",
              " ('Rao', 'NNP'),\n",
              " ('I', 'PRP'),\n",
              " ('study', 'VBP'),\n",
              " ('in', 'IN'),\n",
              " ('college', 'NN'),\n",
              " ('I', 'PRP'),\n",
              " ('am', 'VBP'),\n",
              " ('in', 'IN'),\n",
              " ('Bangalore', 'NNP'),\n",
              " ('I', 'PRP'),\n",
              " ('am', 'VBP'),\n",
              " ('in', 'IN'),\n",
              " ('PES', 'NNP'),\n",
              " ('College', 'NNP'),\n",
              " ('in', 'IN'),\n",
              " ('bangalore', 'NN'),\n",
              " ('People', 'NNS'),\n",
              " ('are', 'VBP'),\n",
              " ('very', 'RB'),\n",
              " ('energetic', 'JJ'),\n",
              " ('Bangalore', 'NNP'),\n",
              " ('has', 'VBZ'),\n",
              " ('the', 'DT'),\n",
              " ('highest', 'JJS'),\n",
              " ('number', 'NN'),\n",
              " ('of', 'IN'),\n",
              " ('IT', 'NNP'),\n",
              " ('companies', 'NNS')]"
            ]
          },
          "metadata": {},
          "execution_count": 17
        }
      ]
    },
    {
      "cell_type": "markdown",
      "source": [
        "#N-grams"
      ],
      "metadata": {
        "id": "TPk_MTopXB33"
      }
    },
    {
      "cell_type": "code",
      "source": [
        "sent=TextBlob(\"I am Sahana Rao. I study in college. I am in Bangalore. I am in PES College in bangalore. People are very energetic. Bangalore has the highest number of IT companies.\")"
      ],
      "metadata": {
        "id": "7EHLOw9-XEHy"
      },
      "execution_count": 18,
      "outputs": []
    },
    {
      "cell_type": "code",
      "source": [
        "sent.ngrams(n=3)"
      ],
      "metadata": {
        "colab": {
          "base_uri": "https://localhost:8080/"
        },
        "id": "CRL4FAVpVMtD",
        "outputId": "68fb9c6b-9087-4a9b-d574-6637036cf84e"
      },
      "execution_count": 19,
      "outputs": [
        {
          "output_type": "execute_result",
          "data": {
            "text/plain": [
              "[WordList(['I', 'am', 'Sahana']),\n",
              " WordList(['am', 'Sahana', 'Rao']),\n",
              " WordList(['Sahana', 'Rao', 'I']),\n",
              " WordList(['Rao', 'I', 'study']),\n",
              " WordList(['I', 'study', 'in']),\n",
              " WordList(['study', 'in', 'college']),\n",
              " WordList(['in', 'college', 'I']),\n",
              " WordList(['college', 'I', 'am']),\n",
              " WordList(['I', 'am', 'in']),\n",
              " WordList(['am', 'in', 'Bangalore']),\n",
              " WordList(['in', 'Bangalore', 'I']),\n",
              " WordList(['Bangalore', 'I', 'am']),\n",
              " WordList(['I', 'am', 'in']),\n",
              " WordList(['am', 'in', 'PES']),\n",
              " WordList(['in', 'PES', 'College']),\n",
              " WordList(['PES', 'College', 'in']),\n",
              " WordList(['College', 'in', 'bangalore']),\n",
              " WordList(['in', 'bangalore', 'People']),\n",
              " WordList(['bangalore', 'People', 'are']),\n",
              " WordList(['People', 'are', 'very']),\n",
              " WordList(['are', 'very', 'energetic']),\n",
              " WordList(['very', 'energetic', 'Bangalore']),\n",
              " WordList(['energetic', 'Bangalore', 'has']),\n",
              " WordList(['Bangalore', 'has', 'the']),\n",
              " WordList(['has', 'the', 'highest']),\n",
              " WordList(['the', 'highest', 'number']),\n",
              " WordList(['highest', 'number', 'of']),\n",
              " WordList(['number', 'of', 'IT']),\n",
              " WordList(['of', 'IT', 'companies'])]"
            ]
          },
          "metadata": {},
          "execution_count": 19
        }
      ]
    },
    {
      "cell_type": "markdown",
      "source": [
        "#Spelling correction"
      ],
      "metadata": {
        "id": "T3LTZFmcXLOg"
      }
    },
    {
      "cell_type": "code",
      "source": [
        "sent=TextBlob(\"Are yuo okay?\")"
      ],
      "metadata": {
        "id": "AovDOA2fVTTt"
      },
      "execution_count": 20,
      "outputs": []
    },
    {
      "cell_type": "code",
      "source": [
        "print(sent.correct())"
      ],
      "metadata": {
        "colab": {
          "base_uri": "https://localhost:8080/"
        },
        "id": "AbiE8kxtXOEC",
        "outputId": "adf8142e-786f-403c-92bb-d294b43c2dc1"
      },
      "execution_count": 21,
      "outputs": [
        {
          "output_type": "stream",
          "name": "stdout",
          "text": [
            "Are you okay?\n"
          ]
        }
      ]
    },
    {
      "cell_type": "code",
      "source": [
        "from textblob import Word\n",
        "w = Word('wrogn')\n",
        "w.spellcheck()"
      ],
      "metadata": {
        "colab": {
          "base_uri": "https://localhost:8080/"
        },
        "id": "nMKlRwkrXUjD",
        "outputId": "8894d94e-a686-4994-cce7-632e3e50805c"
      },
      "execution_count": 22,
      "outputs": [
        {
          "output_type": "execute_result",
          "data": {
            "text/plain": [
              "[('wrong', 1.0)]"
            ]
          },
          "metadata": {},
          "execution_count": 22
        }
      ]
    },
    {
      "cell_type": "markdown",
      "source": [
        "#Noun phrase extraction"
      ],
      "metadata": {
        "id": "v1MW092OXZAC"
      }
    },
    {
      "cell_type": "code",
      "source": [
        "sent=TextBlob(\"I am Sahana Rao. I study in college. I am in Bangalore. I am in PES College in bangalore. People are very energetic. Bangalore has the highest number of IT companies.\")\n",
        "sent.noun_phrases"
      ],
      "metadata": {
        "colab": {
          "base_uri": "https://localhost:8080/"
        },
        "id": "SU2DMo4OXbRf",
        "outputId": "e0ef85d5-055a-4593-a592-1ad2f7302f80"
      },
      "execution_count": 23,
      "outputs": [
        {
          "output_type": "execute_result",
          "data": {
            "text/plain": [
              "WordList(['sahana rao', 'bangalore', 'pes', 'bangalore', 'it'])"
            ]
          },
          "metadata": {},
          "execution_count": 23
        }
      ]
    },
    {
      "cell_type": "markdown",
      "source": [
        "#WordNet integration "
      ],
      "metadata": {
        "id": "reqcrvGJX4w1"
      }
    },
    {
      "cell_type": "code",
      "source": [
        "from textblob import Word\n",
        "import nltk\n",
        "nltk.download('wordnet')"
      ],
      "metadata": {
        "colab": {
          "base_uri": "https://localhost:8080/"
        },
        "id": "Pu_owOzxX6kd",
        "outputId": "e174689b-40cc-47ab-dea1-ecf3128fc400"
      },
      "execution_count": 24,
      "outputs": [
        {
          "output_type": "stream",
          "name": "stderr",
          "text": [
            "[nltk_data] Downloading package wordnet to /root/nltk_data...\n"
          ]
        },
        {
          "output_type": "execute_result",
          "data": {
            "text/plain": [
              "True"
            ]
          },
          "metadata": {},
          "execution_count": 24
        }
      ]
    },
    {
      "cell_type": "code",
      "source": [
        "word = Word(\"bank\")\n",
        "word.synsets"
      ],
      "metadata": {
        "colab": {
          "base_uri": "https://localhost:8080/"
        },
        "id": "r-agmVn1WolE",
        "outputId": "055ac3f4-bccf-4660-8ccc-dc7564ee22b1"
      },
      "execution_count": 25,
      "outputs": [
        {
          "output_type": "execute_result",
          "data": {
            "text/plain": [
              "[Synset('bank.n.01'),\n",
              " Synset('depository_financial_institution.n.01'),\n",
              " Synset('bank.n.03'),\n",
              " Synset('bank.n.04'),\n",
              " Synset('bank.n.05'),\n",
              " Synset('bank.n.06'),\n",
              " Synset('bank.n.07'),\n",
              " Synset('savings_bank.n.02'),\n",
              " Synset('bank.n.09'),\n",
              " Synset('bank.n.10'),\n",
              " Synset('bank.v.01'),\n",
              " Synset('bank.v.02'),\n",
              " Synset('bank.v.03'),\n",
              " Synset('bank.v.04'),\n",
              " Synset('bank.v.05'),\n",
              " Synset('deposit.v.02'),\n",
              " Synset('bank.v.07'),\n",
              " Synset('trust.v.01')]"
            ]
          },
          "metadata": {},
          "execution_count": 25
        }
      ]
    },
    {
      "cell_type": "code",
      "source": [
        "from textblob.wordnet import VERB"
      ],
      "metadata": {
        "id": "s23wNtgnW3bn"
      },
      "execution_count": 26,
      "outputs": []
    },
    {
      "cell_type": "code",
      "source": [
        "Word(\"bank\").get_synsets(pos=VERB)"
      ],
      "metadata": {
        "colab": {
          "base_uri": "https://localhost:8080/"
        },
        "id": "Pvg3EIUtWxs9",
        "outputId": "fbbd839f-e42f-444a-ad08-084a09a78bf6"
      },
      "execution_count": 27,
      "outputs": [
        {
          "output_type": "execute_result",
          "data": {
            "text/plain": [
              "[Synset('bank.v.01'),\n",
              " Synset('bank.v.02'),\n",
              " Synset('bank.v.03'),\n",
              " Synset('bank.v.04'),\n",
              " Synset('bank.v.05'),\n",
              " Synset('deposit.v.02'),\n",
              " Synset('bank.v.07'),\n",
              " Synset('trust.v.01')]"
            ]
          },
          "metadata": {},
          "execution_count": 27
        }
      ]
    },
    {
      "cell_type": "code",
      "source": [
        "Word(\"bank\").definitions"
      ],
      "metadata": {
        "colab": {
          "base_uri": "https://localhost:8080/"
        },
        "id": "UWJtaIzDYGJr",
        "outputId": "f3aa25ac-0936-4c2a-b798-fdb8cc28863a"
      },
      "execution_count": 28,
      "outputs": [
        {
          "output_type": "execute_result",
          "data": {
            "text/plain": [
              "['sloping land (especially the slope beside a body of water)',\n",
              " 'a financial institution that accepts deposits and channels the money into lending activities',\n",
              " 'a long ridge or pile',\n",
              " 'an arrangement of similar objects in a row or in tiers',\n",
              " 'a supply or stock held in reserve for future use (especially in emergencies)',\n",
              " 'the funds held by a gambling house or the dealer in some gambling games',\n",
              " 'a slope in the turn of a road or track; the outside is higher than the inside in order to reduce the effects of centrifugal force',\n",
              " 'a container (usually with a slot in the top) for keeping money at home',\n",
              " 'a building in which the business of banking transacted',\n",
              " 'a flight maneuver; aircraft tips laterally about its longitudinal axis (especially in turning)',\n",
              " 'tip laterally',\n",
              " 'enclose with a bank',\n",
              " 'do business with a bank or keep an account at a bank',\n",
              " 'act as the banker in a game or in gambling',\n",
              " 'be in the banking business',\n",
              " 'put into a bank account',\n",
              " 'cover with ashes so to control the rate of burning',\n",
              " 'have confidence or faith in']"
            ]
          },
          "metadata": {},
          "execution_count": 28
        }
      ]
    },
    {
      "cell_type": "code",
      "source": [
        "from textblob.wordnet import Synset\n",
        "bank = Synset('bank.v.02')\n",
        "deposit = Synset('deposit.v.02')\n",
        "bank.path_similarity(deposit)"
      ],
      "metadata": {
        "colab": {
          "base_uri": "https://localhost:8080/"
        },
        "id": "yfrHXl-GYGoF",
        "outputId": "ce1387de-5e61-40d4-e14d-9026dffce913"
      },
      "execution_count": 29,
      "outputs": [
        {
          "output_type": "execute_result",
          "data": {
            "text/plain": [
              "0.125"
            ]
          },
          "metadata": {},
          "execution_count": 29
        }
      ]
    }
  ]
}